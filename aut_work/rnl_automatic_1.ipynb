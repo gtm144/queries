{
 "cells": [
  {
   "cell_type": "markdown",
   "metadata": {},
   "source": [
    "## Inputs"
   ]
  },
  {
   "cell_type": "code",
   "execution_count": null,
   "metadata": {},
   "outputs": [],
   "source": [
    "text= \"\"\"[LeadId]=[Lead.LeadID]\n",
    "[SourceID] = [Lead.SourceID]\n",
    "[Channel Id] = [Lead.id_channel]\n",
    "[Prospect Code] = [S_staging_096_inquiry_custom_fields.Prospect Code]\n",
    "[Banner ID] = [S_staging_096_inquiry_custom_fields.Banner ID]\n",
    "[NLU Degree Level] = [S_staging_096_inquiry_custom_fields.NLU Degree Level]\n",
    "[NLU Inquiry Date] = [S_staging_096_inquiry_custom_fields.NLU Inquiry Date]\n",
    "[NLU Inquiry Source] = [S_staging_096_inquiry_custom_fields.NLU Inquiry Source]\n",
    "[NLU Inquiry Type] = [S_staging_096_inquiry_custom_fields.NLU Inquiry Type]\n",
    "[NLU Program Code] = [S_staging_096_inquiry_custom_fields.NLU Program Code]\n",
    "[NLU Site Identifier] = [S_staging_096_inquiry_custom_fields.NLU Site Identifier]\n",
    "[Salesforce Contact ID] = [S_staging_096_inquiry_custom_fields.Salesforce Contact ID]\n",
    "[Apply Now] = [S_staging_096_inquiry_custom_fields.Apply Now]\n",
    "[Email] = [Lead.Email]\n",
    "[EnrollmentRepresentativeUserId] = [Enroll_contact.enrollmentCoachid]\n",
    "[SuccessCoachUserId] = [Enroll_contact.successCoachid]\"\"\""
   ]
  },
  {
   "cell_type": "markdown",
   "metadata": {},
   "source": [
    "## Process"
   ]
  },
  {
   "cell_type": "code",
   "execution_count": 42,
   "metadata": {},
   "outputs": [
    {
     "name": "stdout",
     "output_type": "stream",
     "text": [
      "[['[Next Program OE Code]', '[D_program_oe.Program OE Code]'], ['[Next Program OE Id]', '[D_program_oe.Program OE Id]'], ['[Next Program OE Name]', '[D_program_oe.Program OE Name]'], ['[Degree Abbreviation] ', ' [D_program_oe.Degree Abbreviation]'], ['[Degree Name] ', ' [D_program_oe.Degree Name]'], ['[Degree Rank] ', ' [D_program_oe.Degree Rank]'], ['[Graduate Level] ', ' [D_program_oe.Graduate Level]'], ['[Customer Program Code]', ' [D_program_oe.Customer Program Code]'], ['[Customer Program Name]', ' [D_program_oe.Customer Program Name]'], ['[Customer Number]', '[D_program_oe.Customer Number]'], ['[Client Id] ', ' [D_program_oe.Client Id]'], ['[College OE Id] ', ' [D_program_oe.College OE Id]'], ['[Active]', '[D_program_oe.Active]']]\n"
     ]
    }
   ],
   "source": [
    "import re\n",
    "sp_text= list(map(lambda x: x.split('='), text.split('\\n')))\n",
    "print(sp_text)"
   ]
  },
  {
   "cell_type": "code",
   "execution_count": 85,
   "metadata": {},
   "outputs": [
    {
     "name": "stdout",
     "output_type": "stream",
     "text": [
      "['next_program_oe_code', 'next_program_oe_id', 'next_program_oe_name', 'degree_abbreviation', 'degree_name', 'degree_rank', 'graduate_level', 'customer_program_code', 'customer_program_name', 'customer_number', 'client_id', 'college_oe_id', 'active']\n"
     ]
    }
   ],
   "source": [
    "#Variable label names\n",
    "\n",
    "def clean_label(word):\n",
    "    word= word.lower() \\\n",
    "        .strip() \\\n",
    "        .replace(' ', '_') \\\n",
    "        .replace('[', '') \\\n",
    "        .replace(']', '')\n",
    "    return word\n",
    "\n",
    "list_label_names= list(map(lambda x: clean_label(x[0]), sp_text))\n",
    "print(list_label_names)"
   ]
  },
  {
   "cell_type": "code",
   "execution_count": 83,
   "metadata": {},
   "outputs": [
    {
     "name": "stdout",
     "output_type": "stream",
     "text": [
      "['D_program_oe', 'D_program_oe', 'D_program_oe', 'D_program_oe', 'D_program_oe', 'D_program_oe', 'D_program_oe', 'D_program_oe', 'D_program_oe', 'D_program_oe', 'D_program_oe', 'D_program_oe', 'D_program_oe']\n"
     ]
    }
   ],
   "source": [
    "#Table names\n",
    "\n",
    "def clean_name(word):\n",
    "    word= word.strip() \\\n",
    "        .replace('[', '') \\\n",
    "        .replace(']', '')\n",
    "\n",
    "    return word\n",
    "\n",
    "list_table_names= list(map(lambda x: clean_name(x[1].split('.')[0]), sp_text))\n",
    "\n",
    "print(list_table_names)"
   ]
  },
  {
   "cell_type": "code",
   "execution_count": 84,
   "metadata": {},
   "outputs": [
    {
     "name": "stdout",
     "output_type": "stream",
     "text": [
      "['Program OE Code', 'Program OE Id', 'Program OE Name', 'Degree Abbreviation', 'Degree Name', 'Degree Rank', 'Graduate Level', 'Customer Program Code', 'Customer Program Name', 'Customer Number', 'Client Id', 'College OE Id', 'Active']\n"
     ]
    }
   ],
   "source": [
    "#Column names\n",
    "\n",
    "list_column_names= list(map(lambda x: clean_name(x[1].split('.')[1]), sp_text))\n",
    "\n",
    "print(list_column_names)"
   ]
  },
  {
   "cell_type": "markdown",
   "metadata": {},
   "source": [
    "## Desire Results"
   ]
  },
  {
   "cell_type": "code",
   "execution_count": 95,
   "metadata": {},
   "outputs": [
    {
     "name": "stdout",
     "output_type": "stream",
     "text": [
      "['[next_program_oe_code] #{Write var type}', '[next_program_oe_id] [NVARCHAR] (250) NULL', '[next_program_oe_name] #{Write var type}', '[degree_abbreviation] #{Write var type}', '[degree_name] #{Write var type}', '[degree_rank] #{Write var type}', '[graduate_level] #{Write var type}', '[customer_program_code] #{Write var type}', '[customer_program_name] #{Write var type}', '[customer_number] #{Write var type}', '[client_id] [NVARCHAR] (250) NULL', '[college_oe_id] [NVARCHAR] (250) NULL', '[active] #{Write var type}']\n"
     ]
    }
   ],
   "source": [
    "# Create table sypnase\n",
    "def is_nvarchar(word):\n",
    "    if 'id' in word: return '[NVARCHAR] (250) NULL'\n",
    "    else: return '#{Write var type}'\n",
    "\n",
    "\n",
    "list_labels= list(map(lambda x: \n",
    "                '['\n",
    "                + x\n",
    "                + '] '\n",
    "                + is_nvarchar(x)\n",
    "                , list_label_names))\n",
    "\n",
    "print(list_labels)"
   ]
  },
  {
   "cell_type": "code",
   "execution_count": null,
   "metadata": {},
   "outputs": [],
   "source": [
    "#Create Stored Procedure"
   ]
  }
 ],
 "metadata": {
  "language_info": {
   "name": "python"
  },
  "orig_nbformat": 4
 },
 "nbformat": 4,
 "nbformat_minor": 2
}

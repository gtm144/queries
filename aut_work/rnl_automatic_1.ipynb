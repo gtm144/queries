{
 "cells": [
  {
   "cell_type": "code",
   "execution_count": null,
   "metadata": {},
   "outputs": [],
   "source": [
    "text= \"\"\"[LeadId]=[Lead.LeadID]\n",
    "[SourceID] = [Lead.SourceID]\n",
    "[Channel Id] = [Lead.id_channel]\n",
    "[Prospect Code] = [S_staging_096_inquiry_custom_fields.Prospect Code]\n",
    "[Banner ID] = [S_staging_096_inquiry_custom_fields.Banner ID]\n",
    "[NLU Degree Level] = [S_staging_096_inquiry_custom_fields.NLU Degree Level]\n",
    "[NLU Inquiry Date] = [S_staging_096_inquiry_custom_fields.NLU Inquiry Date]\n",
    "[NLU Inquiry Source] = [S_staging_096_inquiry_custom_fields.NLU Inquiry Source]\n",
    "[NLU Inquiry Type] = [S_staging_096_inquiry_custom_fields.NLU Inquiry Type]\n",
    "[NLU Program Code] = [S_staging_096_inquiry_custom_fields.NLU Program Code]\n",
    "[NLU Site Identifier] = [S_staging_096_inquiry_custom_fields.NLU Site Identifier]\n",
    "[Salesforce Contact ID] = [S_staging_096_inquiry_custom_fields.Salesforce Contact ID]\n",
    "[Apply Now] = [S_staging_096_inquiry_custom_fields.Apply Now]\n",
    "[Email] = [Lead.Email]\n",
    "[EnrollmentRepresentativeUserId] = [Enroll_contact.enrollmentCoachid]\n",
    "[SuccessCoachUserId] = [Enroll_contact.successCoachid]\"\"\""
   ]
  },
  {
   "cell_type": "code",
   "execution_count": 33,
   "metadata": {},
   "outputs": [
    {
     "name": "stdout",
     "output_type": "stream",
     "text": [
      "[['[Next Program OE Code]', '[D_program_oe.Program OE Code]'], ['[Next Program OE Id]', '[D_program_oe.Program OE Id]'], ['[Next Program OE Name]', '[D_program_oe.Program OE Name]'], ['[Degree Abbreviation] ', ' [D_program_oe.Degree Abbreviation]'], ['[Degree Name] ', ' [D_program_oe.Degree Name]'], ['[Degree Rank] ', ' [D_program_oe.Degree Rank]'], ['[Graduate Level] ', ' [D_program_oe.Graduate Level]'], ['[Customer Program Code]', ' [D_program_oe.Customer Program Code]'], ['[Customer Program Name]', ' [D_program_oe.Customer Program Name]'], ['[Customer Number]', '[D_program_oe.Customer Number]'], ['[Client Id] ', ' [D_program_oe.Client Id]'], ['[College OE Id] ', ' [D_program_oe.College OE Id]'], ['[Active]', '[D_program_oe.Active]']]\n"
     ]
    }
   ],
   "source": [
    "sp_text= list(map(lambda x: x.split('='), text.split('\\n')))\n",
    "print(sp_text)"
   ]
  },
  {
   "cell_type": "code",
   "execution_count": null,
   "metadata": {},
   "outputs": [],
   "source": [
    "#Variable"
   ]
  }
 ],
 "metadata": {
  "language_info": {
   "name": "python"
  },
  "orig_nbformat": 4
 },
 "nbformat": 4,
 "nbformat_minor": 2
}

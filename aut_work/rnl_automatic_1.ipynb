{
 "cells": [
  {
   "cell_type": "code",
   "execution_count": null,
   "metadata": {},
   "outputs": [],
   "source": [
    "text= \"\"\"[LeadId]=[Lead.LeadID]\n",
    "[SourceID] = [Lead.SourceID]\n",
    "[Channel Id] = [Lead.id_channel]\n",
    "[Prospect Code] = [S_staging_096_inquiry_custom_fields.Prospect Code]\n",
    "[Banner ID] = [S_staging_096_inquiry_custom_fields.Banner ID]\n",
    "[NLU Degree Level] = [S_staging_096_inquiry_custom_fields.NLU Degree Level]\n",
    "[NLU Inquiry Date] = [S_staging_096_inquiry_custom_fields.NLU Inquiry Date]\n",
    "[NLU Inquiry Source] = [S_staging_096_inquiry_custom_fields.NLU Inquiry Source]\n",
    "[NLU Inquiry Type] = [S_staging_096_inquiry_custom_fields.NLU Inquiry Type]\n",
    "[NLU Program Code] = [S_staging_096_inquiry_custom_fields.NLU Program Code]\n",
    "[NLU Site Identifier] = [S_staging_096_inquiry_custom_fields.NLU Site Identifier]\n",
    "[Salesforce Contact ID] = [S_staging_096_inquiry_custom_fields.Salesforce Contact ID]\n",
    "[Apply Now] = [S_staging_096_inquiry_custom_fields.Apply Now]\n",
    "[Email] = [Lead.Email]\n",
    "[EnrollmentRepresentativeUserId] = [Enroll_contact.enrollmentCoachid]\n",
    "[SuccessCoachUserId] = [Enroll_contact.successCoachid]\"\"\""
   ]
  },
  {
   "cell_type": "code",
   "execution_count": 42,
   "metadata": {},
   "outputs": [
    {
     "name": "stdout",
     "output_type": "stream",
     "text": [
      "[['[Next Program OE Code]', '[D_program_oe.Program OE Code]'], ['[Next Program OE Id]', '[D_program_oe.Program OE Id]'], ['[Next Program OE Name]', '[D_program_oe.Program OE Name]'], ['[Degree Abbreviation] ', ' [D_program_oe.Degree Abbreviation]'], ['[Degree Name] ', ' [D_program_oe.Degree Name]'], ['[Degree Rank] ', ' [D_program_oe.Degree Rank]'], ['[Graduate Level] ', ' [D_program_oe.Graduate Level]'], ['[Customer Program Code]', ' [D_program_oe.Customer Program Code]'], ['[Customer Program Name]', ' [D_program_oe.Customer Program Name]'], ['[Customer Number]', '[D_program_oe.Customer Number]'], ['[Client Id] ', ' [D_program_oe.Client Id]'], ['[College OE Id] ', ' [D_program_oe.College OE Id]'], ['[Active]', '[D_program_oe.Active]']]\n"
     ]
    }
   ],
   "source": [
    "import re\n",
    "sp_text= list(map(lambda x: x.split('='), text.split('\\n')))\n",
    "print(sp_text)"
   ]
  },
  {
   "cell_type": "code",
   "execution_count": 46,
   "metadata": {},
   "outputs": [
    {
     "name": "stdout",
     "output_type": "stream",
     "text": [
      "['next_program_oe_code', 'next_program_oe_id', 'next_program_oe_name', 'degree_abbreviation', 'degree_name', 'degree_rank', 'graduate_level', 'customer_program_code', 'customer_program_name', 'customer_number', 'client_id', 'college_oe_id', 'active']\n"
     ]
    }
   ],
   "source": [
    "#Variable names\n",
    "def var_names(word):\n",
    "    word= word.lower()\n",
    "    word= word.replace(' ', '_')\n",
    "    word= re.search(r\"\\[(\\w+)\\]\", word)\n",
    "\n",
    "    return word.group(1)\n",
    "\n",
    "list_var_names= list(map(lambda x: var_names(x[0]), sp_text))\n",
    "\n",
    "print(list_var_names)"
   ]
  },
  {
   "cell_type": "code",
   "execution_count": 61,
   "metadata": {},
   "outputs": [
    {
     "name": "stdout",
     "output_type": "stream",
     "text": [
      "['D_program_oe', 'D_program_oe', 'D_program_oe', '[D_program_oe', '[D_program_oe', '[D_program_oe', '[D_program_oe', '[D_program_oe', '[D_program_oe', 'D_program_oe', '[D_program_oe', '[D_program_oe', 'D_program_oe']\n"
     ]
    }
   ],
   "source": [
    "#Table names\n",
    "list_var_names= list(map(lambda x: x[1].split('.'), sp_text))\n",
    "list_var_names= list(map(lambda x: x[0][1:], list_var_names))\n",
    "print(list_var_names)"
   ]
  }
 ],
 "metadata": {
  "language_info": {
   "name": "python"
  },
  "orig_nbformat": 4
 },
 "nbformat": 4,
 "nbformat_minor": 2
}
